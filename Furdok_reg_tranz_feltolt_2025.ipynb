{
 "cells": [
  {
   "cell_type": "code",
   "execution_count": 1,
   "id": "d2027910-3369-4d5d-b7bf-c67bb1f57eab",
   "metadata": {
    "tags": []
   },
   "outputs": [],
   "source": [
    "import pandas as pd\n",
    "import os\n",
    "import oracledb\n",
    "import getpass\n",
    "import numpy as np\n",
    "import datetime"
   ]
  },
  {
   "cell_type": "code",
   "execution_count": 2,
   "id": "35097cdd-68c6-4ee5-981e-efdac29710fe",
   "metadata": {
    "tags": []
   },
   "outputs": [],
   "source": [
    "def actual_time():\n",
    "    f_now = datetime.datetime.now().strftime(\"%Y.%m.%d. %H:%M:%S\")\n",
    "    return f_now"
   ]
  },
  {
   "cell_type": "code",
   "execution_count": 3,
   "id": "be8f3935-f439-4fb5-9506-afd78fdd72f7",
   "metadata": {},
   "outputs": [],
   "source": [
    "def regUpdate(tableName, attributeName, signal):\n",
    "    value_one = regFurdok[(regFurdok[attributeName].str.contains(signal) == False)]\n",
    "    value_one[attributeName] = value_one[attributeName].apply(lambda x: x.replace(\"{\", \"\"))\n",
    "    value_one[attributeName] = value_one[attributeName].apply(lambda x: x.replace(\"}\", \"\"))\n",
    "    \n",
    "    for i in range(0, len(value_one)):\n",
    "        #not (pd.isna(value_one.iloc[i][attributeName])) and \n",
    "        if (value_one.iloc[i][attributeName] != \"\"):\n",
    "            update_sql = \"UPDATE \" + tableName + \" SET \" + attributeName + \"_\" + value_one.iloc[i][attributeName] + \" = 1 where TEV = :TEV and MHO = :MHO and ID_SQ = :ID_SQ\"\n",
    "            cur.execute(update_sql, TEV = TEV, MHO = MHO, ID_SQ = value_one.iloc[i][\"ID_SQ\"].astype('float64'))\n",
    "            cur.execute(\"commit\")\n",
    "            #print(value_one.iloc[i][\"ID_SQ\"], value_one.iloc[i][attributeName])\n",
    "            # print(regFurdok.loc[:][\"szolgaltatas_tipusok\"])\n",
    "    \n",
    "    \"\"\"\n",
    "    value_none = regKF[(regKF[attributeName].isnull())]\n",
    "    if not (value_none.empty):\n",
    "        cur.executemany(output_insert_sql, value_none[[\"ID_SQ\", attributeName]].values.tolist())\n",
    "        cur.execute(\"commit\")\n",
    "    \"\"\"\n",
    "    \n",
    "    value_more = regFurdok[(regFurdok[attributeName].str.contains(signal) == True)]\n",
    "    split_value = value_more[attributeName].str.split(pat = signal, expand = True)\n",
    "\n",
    "    oszlopok_szama = split_value.shape[1]\n",
    "    print(f\"{attributeName} oszlopainak száma: {oszlopok_szama}\")\n",
    "\n",
    "    for o in range(oszlopok_szama):\n",
    "        print(o)\n",
    "        value_more.drop([attributeName], axis = 1, inplace = True)\n",
    "        value_more[attributeName] = split_value.loc[:, o]\n",
    "        value_more[attributeName] = value_more[attributeName][(value_more[attributeName].str.contains(\"None\") == False)].apply(lambda x: x.replace(\"{\", \"\"))\n",
    "        value_more[attributeName] = value_more[attributeName][(value_more[attributeName].str.contains(\"None\") == False)].apply(lambda x: x.replace(\"}\", \"\"))\n",
    "        value_more[attributeName] = value_more[attributeName][(value_more[attributeName].str.contains(\"None\") == False)].apply(lambda x: x.replace(\" \", \"\"))\n",
    "        #cur.executemany(output_insert_sql, value_more[[\"ID_SQ\", attributeName]][(value_more[attributeName].str.contains(\"None\") == False)].values.tolist())\n",
    "        \n",
    "        for i in range(0, len(value_more)):\n",
    "            #print(value_more.iloc[i][attributeName])\n",
    "            if not (pd.isna(value_more.iloc[i][attributeName])):\n",
    "                update_sql = \"UPDATE \" + tableName + \" SET \" + attributeName + \"_\" + value_more.iloc[i][attributeName] + \" = 1 where TEV = :TEV and MHO = :MHO and ID_SQ = :ID_SQ\"\n",
    "                cur.execute(update_sql, TEV = TEV, MHO = MHO, ID_SQ = value_more.iloc[i][\"ID_SQ\"].astype('float64'))\n",
    "                cur.execute(\"commit\")\n",
    "    "
   ]
  },
  {
   "cell_type": "code",
   "execution_count": 4,
   "id": "32fbf2e1-9698-471a-911d-d191c028a684",
   "metadata": {
    "tags": []
   },
   "outputs": [],
   "source": [
    "def makeInsert(number):\n",
    "    valuesText = \"\"\n",
    "    for row in range(number):\n",
    "        valuesText = valuesText + \":\" + str(row + 1) + \",\"\n",
    "\n",
    "    valuesText = valuesText[:-1]\n",
    "\n",
    "    return valuesText"
   ]
  },
  {
   "cell_type": "code",
   "execution_count": 5,
   "id": "1f45eac0-d869-4ef9-af9f-04cd910a11d9",
   "metadata": {
    "tags": []
   },
   "outputs": [
    {
     "name": "stdin",
     "output_type": "stream",
     "text": [
      "Kérlek, add meg a(z) vl05953 felhasználói nevedhez tartozó jelszót:  ········\n"
     ]
    }
   ],
   "source": [
    "pd.options.mode.chained_assignment = None\n",
    "\n",
    "username = getpass.getuser()\n",
    "password = getpass.getpass(f\"Kérlek, add meg a(z) {username} felhasználói nevedhez tartozó jelszót: \")"
   ]
  },
  {
   "cell_type": "code",
   "execution_count": 6,
   "id": "8bf7dc10-805e-44e0-8d67-853f6b9f36d3",
   "metadata": {
    "tags": []
   },
   "outputs": [],
   "source": [
    "database = oracledb.makedsn(host = \"tesztdb.ksh.hu\", port = \"1522\", service_name = \"tesztdb.ksh.hu\")\n",
    "conn = oracledb.connect(user = username, password = password, dsn = database)\n",
    "cur = conn.cursor()"
   ]
  },
  {
   "cell_type": "code",
   "execution_count": 7,
   "id": "f8fb7081-7f42-4faa-97fe-2072695a8b69",
   "metadata": {
    "tags": []
   },
   "outputs": [],
   "source": [
    "TEV = \"2024\"\n",
    "MHO = \"08\"\n",
    "OSAP = \"2588\"\n",
    "EXP_DATE = actual_time()"
   ]
  },
  {
   "cell_type": "code",
   "execution_count": 8,
   "id": "200f43d7-96df-4c2a-8b9f-d8297af75b1f",
   "metadata": {
    "tags": []
   },
   "outputs": [
    {
     "name": "stdout",
     "output_type": "stream",
     "text": [
      "A fürdőhelyek regisztrációs adatait tartalmazó adatkeret sor- és oszlopszámai : (468, 84)\n"
     ]
    }
   ],
   "source": [
    "#Fürdőhelyek regisztrációs adatainak beolvasása Excel állományból\n",
    "regFurdok = pd.read_excel(io = os.path.abspath(os.getcwd() + \"\\Excel_Files\\Regisztrációs_adatok_KSH_attrakcio_kozfurdo_természetesfurdohely_202406_08ho.xlsx\"), sheet_name = \"regisztráció\", header = 0)\n",
    "#regFurdok.drop(regFurdok.tail(2).index, inplace = True) #csak júniusra és júliusra kell törölni, mert augusztusban lett két új fürdőhely\n",
    "print(f\"A fürdőhelyek regisztrációs adatait tartalmazó adatkeret sor- és oszlopszámai : {regFurdok.shape}\")"
   ]
  },
  {
   "cell_type": "code",
   "execution_count": 9,
   "id": "697e78ae-0cf7-49ac-a1f0-fff7063c72f5",
   "metadata": {
    "tags": []
   },
   "outputs": [],
   "source": [
    "#W_ kezdetű tábla feltöltése\n",
    "pd.set_option('display.precision', 0)\n",
    "regFurdok[\"letrehozva\"] = regFurdok[\"letrehozva\"].astype(\"datetime64[ns]\")\n",
    "#print(regFurdok[\"letrehozva\"].dtypes)\n",
    "#print(regFurdok.loc[:][\"letrehozva\"])\n",
    "regFurdok = regFurdok.replace({pd.NaT: None}).replace({\"NaT\": None}).replace({np.NaN: None})\n",
    "\n",
    "regFurdok.insert(loc = 0, column = \"MHO\", value = MHO)\n",
    "regFurdok.insert(loc = 0, column = \"TEV\", value = TEV)\n"
   ]
  },
  {
   "cell_type": "code",
   "execution_count": 10,
   "id": "63d31601-9744-472f-980d-149bc4011392",
   "metadata": {
    "tags": []
   },
   "outputs": [],
   "source": [
    "values = makeInsert(84)\n",
    "\n",
    "outputName = \"GOA24.W_VK_2588_REG_V24H9_V_V00\"\n",
    "attributesForInsert = \"\"\"TEV, MHO, szolgaltatasi_hely_nev, szolgaltatasi_hely_regisztracios_szam, foszolgaltatas, \n",
    "szolgaltatas_tipusok, statusz, letrehozva, szolgaltatasi_hely_iranyitoszam, szolgaltatasi_hely_telepules, \n",
    "szolgaltatasi_hely_megye, szolgaltatasi_hely_kiemelt_terseg, szolgaltatasi_hely_kozterulet_neve, \n",
    "szolgaltatasi_hely_kozterulet_jellege, szolgaltatasi_hely_hazszam, szolgaltato_nev, szolgaltato_adoszam, \n",
    "szolgaltato_vallalkozas_tipus, szolgaltato_statisztikai_tevekenyseg, szolgaltato_iranyitoszam, \n",
    "szolgaltato_telepules, arbevetel_ev, arbevetel_osszeg, arbevetel, altalanos_beszeltnyelvek, \n",
    "altalanos_feliratoknyelvei, altalanos_helyszinjellege, altalanos_atlagostoltottido_hour, \n",
    "altalanos_atlagostoltottido_minute, altalanos_atlagostoltottido_second, altalanos_atlagostoltottido_nano, \n",
    "altalanos_latogatokszamarawifi, altalanos_ajandekboltshowvan, altalanos_mobiltelefonosappvan, \n",
    "altalanos_turisztikaiinformaciospontvan, altalanos_kotelezoidopontotfoglalni, \n",
    "altalanos_szemelyesfoglalaslehetosegek, altalanos_nyitvatartasszezonalitasa, altalanos_vonzeronyitvavan, \n",
    "akadalymentesseg_lift, akadalymentesseg_wc, akadalymentesseg_fizikaiakadalymentesites, \n",
    "akadalymentesseg_bejaratmegkozelitheto, akadalymentesseg_latasserultekszamara, \n",
    "akadalymentesseg_hallasserultekszamara, akadalymentesseg_kiseroszemelyzetrendelkezesreall, gazdasagi_utalvanyok, \n",
    "gazdasagi_szepkartyak, gazdasagi_vanbankkartya, gazdasagi_fizetoeszkozok, gazdasagi_viszonteladoiertekesites,  \n",
    "gazdasagi_jutalekosfizetesirendszer, infrastruktura_latogatowc, infrastruktura_ruhatar, \n",
    "infrastruktura_csomagmegorzo, infrastruktura_kerekpartarolo, infrastruktura_parkolo, infrastruktura_buszparkolodb, \n",
    "infrastruktura_szemelygepkocsiparkolodb, infrastruktura_elektromosautotoltes, furdokozfurdo_kategoria, \n",
    "furdoterulete, zoldteruletnagysaga, elmenyelemekszamaosszesen, medencekszamaosszesen, medencekvizfeluleteosszesen,  \n",
    "furdomegengedhetonapilegnagyobbterhelese, furdobeepitettosszesvizforgatasikapacitasa,  \n",
    "furdomegengedettegyidejulegnagyobbterhelese, furdoknemzetitanusitovedjegyevelrendelkezik, \n",
    "furdonekszerzodeseskapcsolataegeszsegpenztarral, furdoegysegek, beautyszolgaltatasok, csaladbaratszolgaltatasok, \n",
    "egeszsegmegorzoszolgaltatasok, maxbefogadokepesseg, partszakashossza, kekhullamminosites, zuhanylehetoseg,  \n",
    "mozgaskorlatozottbetudjutniavizbe, vizimentoszolgalat, vizeskapcsolatosuszoda, lehetkolcsonozni, \n",
    "kolcsonzesilehetosegek\"\"\" \n",
    "\n",
    "\n",
    "output_insert_sql = \"INSERT INTO \" + outputName + \"(\" + attributesForInsert + \") VALUES(\" + values + \")\"\n",
    "cur.executemany(output_insert_sql, regFurdok[[\"TEV\", \"MHO\", \"szolgaltatasi_hely_nev\", \"szolgaltatasi_hely_regisztracios_szam\", \n",
    "                                              \"foszolgaltatas\", \"szolgaltatas_tipusok\", \"statusz\", \"letrehozva\", \n",
    "                                              \"szolgaltatasi_hely_iranyitoszam\", \"szolgaltatasi_hely_telepules\", \n",
    "                                              \"szolgaltatasi_hely_megye\", \"szolgaltatasi_hely_kiemelt_terseg\", \n",
    "                                              \"szolgaltatasi_hely_kozterulet_neve\", \"szolgaltatasi_hely_kozterulet_jellege\", \n",
    "                                              \"szolgaltatasi_hely_hazszam\", \"szolgaltato_nev\", \"szolgaltato_adoszam\", \n",
    "                                              \"szolgaltato_vallalkozas_tipus\", \"szolgaltato_statisztikai_tevekenyseg\", \n",
    "                                              \"szolgaltato_iranyitoszam\", \"szolgaltato_telepules\", \"arbevetel_ev\", \n",
    "                                              \"arbevetel_osszeg\", \"arbevetel\", \"altalanos_beszeltnyelvek\", \n",
    "                                              \"altalanos_feliratoknyelvei\", \"altalanos_helyszinjellege\", \n",
    "                                              \"altalanos_atlagostoltottido_hour\", \"altalanos_atlagostoltottido_minute\", \n",
    "                                              \"altalanos_atlagostoltottido_second\", \n",
    "                                              \"altalanos_atlagostoltottido_nano\", \"altalanos_latogatokszamarawifi\", \n",
    "                                              \"altalanos_ajandekboltshowvan\", \"altalanos_mobiltelefonosappvan\", \n",
    "                                              \"altalanos_turisztikaiinformaciospontvan\", \"altalanos_kotelezoidopontotfoglalni\", \n",
    "                                              \"altalanos_szemelyesfoglalaslehetosegek\", \"altalanos_nyitvatartasszezonalitasa\", \n",
    "                                              \"altalanos_vonzeronyitvavan\", \"akadalymentesseg_lift\", \"akadalymentesseg_wc\", \n",
    "                                              \"akadalymentesseg_fizikaiakadalymentesites\", \"akadalymentesseg_bejaratmegkozelitheto\", \n",
    "                                              \"akadalymentesseg_latasserultekszamara\", \"akadalymentesseg_hallasserultekszamara\", \n",
    "                                              \"akadalymentesseg_kiseroszemelyzetrendelkezesreall\", \"gazdasagi_utalvanyok\", \n",
    "                                              \"gazdasagi_szepkartyak\", \"gazdasagi_vanbankkartya\", \"gazdasagi_fizetoeszkozok\", \n",
    "                                              \"gazdasagi_viszonteladoiertekesites\", \"gazdasagi_jutalekosfizetesirendszer\", \n",
    "                                              \"infrastruktura_latogatowc\", \"infrastruktura_ruhatar\", \"infrastruktura_csomagmegorzo\", \n",
    "                                              \"infrastruktura_kerekpartarolo\", \"infrastruktura_parkolo\", \"infrastruktura_buszparkolodb\", \n",
    "                                              \"infrastruktura_szemelygepkocsiparkolodb\", \"infrastruktura_elektromosautotoltes\", \n",
    "                                              \"furdokozfurdo_kategoria\", \"furdoterulete\", \"zoldteruletnagysaga\", \"elmenyelemekszamaosszesen\", \n",
    "                                              \"medencekszamaosszesen\", \"medencekvizfeluleteosszesen\", \"furdomegengedhetonapilegnagyobbterhelese\", \n",
    "                                              \"furdobeepitettosszesvizforgatasikapacitasa\", \"furdomegengedettegyidejulegnagyobbterhelese\", \n",
    "                                              \"furdoknemzetitanusitovedjegyevelrendelkezik\", \"furdonekszerzodeseskapcsolataegeszsegpenztarral\", \n",
    "                                              \"furdoegysegek\", \"beautyszolgaltatasok\", \"csaladbaratszolgaltatasok\", \n",
    "                                              \"egeszsegmegorzoszolgaltatasok\", \"maxbefogadokepesseg\", \"partszakashossza\", \"kekhullamminosites\", \n",
    "                                              \"zuhanylehetoseg\", \"mozgaskorlatozottbetudjutniavizbe\", \"vizimentoszolgalat\", \n",
    "                                              \"vizeskapcsolatosuszoda\", \"lehetkolcsonozni\", \"kolcsonzesilehetosegek\" ]].values.tolist())\n",
    "\n",
    "cur.execute(\"commit\")"
   ]
  },
  {
   "cell_type": "code",
   "execution_count": 11,
   "id": "700495b1-2809-43fd-ad8f-a911997b6a3a",
   "metadata": {
    "tags": []
   },
   "outputs": [],
   "source": [
    "#Nem W_ kezdetű regisztrációs tábla feltöltése\n",
    "regFurdok.insert(loc = 0, column = \"MC01\", value = OSAP)\n",
    "regFurdok.insert(loc = 0, column = \"EXP_DATE\", value = EXP_DATE)\n",
    "regFurdok[\"EXP_DATE\"] = regFurdok[\"EXP_DATE\"].astype(\"datetime64[ns]\")"
   ]
  },
  {
   "cell_type": "code",
   "execution_count": 12,
   "id": "24bb5ccb-2b3b-4fa5-af86-98e18de87403",
   "metadata": {
    "tags": []
   },
   "outputs": [],
   "source": [
    "values = makeInsert(65)\n",
    "\n",
    "outputName = \"GOA24.VK_2588_REG_V24H9_V_V00\"\n",
    "attributesForInsert = \"\"\"TEV, MHO, MC01, szolgaltatasi_hely_nev, szolgaltatasi_hely_regisztracios_szam, \n",
    "foszolgaltatas, statusz, letrehozva, szolgaltatasi_hely_iranyitoszam, \n",
    "szolgaltatasi_hely_telepules, szolgaltatasi_hely_megye, szolgaltatasi_hely_kiemelt_terseg, \n",
    "szolgaltatasi_hely_kozterulet_neve, szolgaltatasi_hely_kozterulet_jellege, szolgaltatasi_hely_hazszam, \n",
    "szolgaltato_nev, szolgaltato_adoszam, szolgaltato_vallalkozas_tipus, szolgaltato_statisztikai_tevekenyseg, \n",
    "szolgaltato_iranyitoszam, szolgaltato_telepules, arbevetel_ev, arbevetel_osszeg, arbevetel, \n",
    "altalanos_atlagostoltottido_hour, altalanos_atlagostoltottido_minute, altalanos_atlagostoltottido_second, \n",
    "altalanos_atlagostoltottido_nano, altalanos_latogatokszamarawifi, altalanos_ajandekboltshowvan, \n",
    "altalanos_mobiltelefonosappvan, altalanos_turisztikaiinformaciospontvan, altalanos_kotelezoidopontotfoglalni, \n",
    "altalanos_nyitvatartasszezonalitasa, akadalymentesseg_lift, akadalymentesseg_wc, \n",
    "akadalymentesseg_fizikaiakadalymentesites, akadalymentesseg_bejaratmegkozelitheto, \n",
    "akadalymentesseg_latasserultekszamara, akadalymentesseg_hallasserultekszamara, \n",
    "akadalymentesseg_kiseroszemelyzetrendelkezesreall, gazdasagi_vanbankkartya, gazdasagi_fizetoeszkozok, \n",
    "gazdasagi_viszonteladoiertekesites, gazdasagi_jutalekosfizetesirendszer, infrastruktura_latogatowc, \n",
    "infrastruktura_ruhatar, infrastruktura_csomagmegorzo, infrastruktura_kerekpartarolo, infrastruktura_parkolo, \n",
    "infrastruktura_buszparkolodb, infrastruktura_szemelygepkocsiparkolodb, infrastruktura_elektromosautotoltes, \n",
    "furdokozfurdo_kategoria, furdoterulete, zoldteruletnagysaga, elmenyelemekszamaosszesen, medencekszamaosszesen, \n",
    "medencekvizfeluleteosszesen, furdomegengedhetonapilegnagyobbterhelese, furdobeepitettosszesvizforgatasikapacitasa, \n",
    "furdomegengedettegyidejulegnagyobbterhelese, furdoknemzetitanusitovedjegyevelrendelkezik, \n",
    "furdonekszerzodeseskapcsolataegeszsegpenztarral, EXP_DATE\"\"\" \n",
    "\n",
    "output_insert_sql = \"INSERT INTO \" + outputName + \"(\" + attributesForInsert + \") VALUES(\" + values + \")\"\n",
    "cur.executemany(output_insert_sql, \n",
    "                regFurdok[[\"TEV\", \"MHO\", \"MC01\", \"szolgaltatasi_hely_nev\", \n",
    "                       \"szolgaltatasi_hely_regisztracios_szam\", \"foszolgaltatas\", \"statusz\", \n",
    "                       \"letrehozva\", \"szolgaltatasi_hely_iranyitoszam\", \n",
    "                       \"szolgaltatasi_hely_telepules\", \"szolgaltatasi_hely_megye\", \n",
    "                       \"szolgaltatasi_hely_kiemelt_terseg\", \"szolgaltatasi_hely_kozterulet_neve\", \n",
    "                       \"szolgaltatasi_hely_kozterulet_jellege\", \"szolgaltatasi_hely_hazszam\", \n",
    "                       \"szolgaltato_nev\", \"szolgaltato_adoszam\", \"szolgaltato_vallalkozas_tipus\", \n",
    "                       \"szolgaltato_statisztikai_tevekenyseg\", \"szolgaltato_iranyitoszam\", \n",
    "                       \"szolgaltato_telepules\", \"arbevetel_ev\", \"arbevetel_osszeg\", \"arbevetel\", \n",
    "                       \"altalanos_atlagostoltottido_hour\", \"altalanos_atlagostoltottido_minute\", \n",
    "                       \"altalanos_atlagostoltottido_second\", \"altalanos_atlagostoltottido_nano\", \n",
    "                       \"altalanos_latogatokszamarawifi\", \"altalanos_ajandekboltshowvan\", \n",
    "                       \"altalanos_mobiltelefonosappvan\", \"altalanos_turisztikaiinformaciospontvan\", \n",
    "                       \"altalanos_kotelezoidopontotfoglalni\", \"altalanos_nyitvatartasszezonalitasa\", \n",
    "                       \"akadalymentesseg_lift\", \"akadalymentesseg_wc\", \n",
    "                       \"akadalymentesseg_fizikaiakadalymentesites\", \"akadalymentesseg_bejaratmegkozelitheto\", \n",
    "                       \"akadalymentesseg_latasserultekszamara\", \"akadalymentesseg_hallasserultekszamara\", \n",
    "                       \"akadalymentesseg_kiseroszemelyzetrendelkezesreall\", \"gazdasagi_vanbankkartya\", \n",
    "                       \"gazdasagi_fizetoeszkozok\", \"gazdasagi_viszonteladoiertekesites\", \n",
    "                       \"gazdasagi_jutalekosfizetesirendszer\", \"infrastruktura_latogatowc\", \n",
    "                       \"infrastruktura_ruhatar\", \"infrastruktura_csomagmegorzo\", \n",
    "                       \"infrastruktura_kerekpartarolo\", \"infrastruktura_parkolo\", \n",
    "                       \"infrastruktura_buszparkolodb\", \"infrastruktura_szemelygepkocsiparkolodb\", \n",
    "                       \"infrastruktura_elektromosautotoltes\", \"furdokozfurdo_kategoria\", \"furdoterulete\", \n",
    "                       \"zoldteruletnagysaga\", \"elmenyelemekszamaosszesen\", \"medencekszamaosszesen\", \n",
    "                       \"medencekvizfeluleteosszesen\", \"furdomegengedhetonapilegnagyobbterhelese\", \n",
    "                       \"furdobeepitettosszesvizforgatasikapacitasa\", \n",
    "                       \"furdomegengedettegyidejulegnagyobbterhelese\", \n",
    "                       \"furdoknemzetitanusitovedjegyevelrendelkezik\", \n",
    "                       \"furdonekszerzodeseskapcsolataegeszsegpenztarral\", \"EXP_DATE\"]].values.tolist())\n",
    "cur.execute(\"commit\")"
   ]
  },
  {
   "cell_type": "code",
   "execution_count": 13,
   "id": "88db560b-6389-4be4-8bdb-8fce3973baeb",
   "metadata": {},
   "outputs": [],
   "source": [
    "select_ID_SQ = \"SELECT ID_SQ FROM GOA24.VK_2588_REG_V24H9_V_V00 where TEV = :TEV and MHO = :MHO order by ID_SQ\"\n",
    "#and szolgaltatasi_hely_regisztracios_szam like 'KF%' \n",
    "cur.execute(select_ID_SQ, TEV = TEV, MHO = MHO)\n",
    "ID_SQ_Values = cur.fetchall()\n",
    "ID_SQ_df = pd.DataFrame(ID_SQ_Values, columns = [\"ID_SQ\"])\n",
    "#print(ID_SQ_df.loc[0])\n",
    "regFurdok.insert(loc = 0, column = \"ID_SQ\", value = ID_SQ_df)"
   ]
  },
  {
   "cell_type": "code",
   "execution_count": 14,
   "id": "1ef107a5-3f6a-4bef-a28b-e9e647213558",
   "metadata": {
    "tags": []
   },
   "outputs": [
    {
     "name": "stdout",
     "output_type": "stream",
     "text": [
      "szolgaltatas_tipusok oszlopainak száma: 2\n",
      "0\n",
      "1\n",
      "altalanos_beszeltnyelvek oszlopainak száma: 8\n",
      "0\n",
      "1\n",
      "2\n",
      "3\n",
      "4\n",
      "5\n",
      "6\n",
      "7\n",
      "altalanos_feliratoknyelvei oszlopainak száma: 7\n",
      "0\n",
      "1\n",
      "2\n",
      "3\n",
      "4\n",
      "5\n",
      "6\n",
      "altalanos_helyszinjellege oszlopainak száma: 2\n",
      "0\n",
      "1\n",
      "altalanos_szemelyesfoglalaslehetosegek oszlopainak száma: 4\n",
      "0\n",
      "1\n",
      "2\n",
      "3\n",
      "altalanos_vonzeronyitvavan oszlopainak száma: 12\n",
      "0\n",
      "1\n",
      "2\n",
      "3\n",
      "4\n",
      "5\n",
      "6\n",
      "7\n",
      "8\n",
      "9\n",
      "10\n",
      "11\n",
      "gazdasagi_utalvanyok oszlopainak száma: 6\n",
      "0\n",
      "1\n",
      "2\n",
      "3\n",
      "4\n",
      "5\n",
      "gazdasagi_szepkartyak oszlopainak száma: 3\n",
      "0\n",
      "1\n",
      "2\n",
      "furdoegysegek oszlopainak száma: 13\n",
      "0\n",
      "1\n",
      "2\n",
      "3\n",
      "4\n",
      "5\n",
      "6\n",
      "7\n",
      "8\n",
      "9\n",
      "10\n",
      "11\n",
      "12\n",
      "beautyszolgaltatasok oszlopainak száma: 7\n",
      "0\n",
      "1\n",
      "2\n",
      "3\n",
      "4\n",
      "5\n",
      "6\n",
      "csaladbaratszolgaltatasok oszlopainak száma: 6\n",
      "0\n",
      "1\n",
      "2\n",
      "3\n",
      "4\n",
      "5\n",
      "egeszsegmegorzoszolgaltatasok oszlopainak száma: 4\n",
      "0\n",
      "1\n",
      "2\n",
      "3\n"
     ]
    }
   ],
   "source": [
    "regUpdate(\"GOA24.VK_2588_REG_V24H9_V_V00\", \"szolgaltatas_tipusok\", \";\")#szolgaltatas_tipusok\n",
    "regUpdate(\"GOA24.VK_2588_REG_V24H9_V_V00\", \"altalanos_beszeltnyelvek\", \",\")#altalanos_beszeltnyelvek \n",
    "regUpdate(\"GOA24.VK_2588_REG_V24H9_V_V00\", \"altalanos_feliratoknyelvei\", \",\")#altalanos_feliratoknyelvei\n",
    "regUpdate(\"GOA24.VK_2588_REG_V24H9_V_V00\", \"altalanos_helyszinjellege\", \",\")#altalanos_helyszinjellege\n",
    "regUpdate(\"GOA24.VK_2588_REG_V24H9_V_V00\", \"altalanos_szemelyesfoglalaslehetosegek\", \",\")#altalanos_szemelyesfoglalaslehetosegek\n",
    "regUpdate(\"GOA24.VK_2588_REG_V24H9_V_V00\", \"altalanos_vonzeronyitvavan\", \",\")#altalanos_vonzeronyitvavan\n",
    "regUpdate(\"GOA24.VK_2588_REG_V24H9_V_V00\", \"gazdasagi_utalvanyok\", \",\")#gazdasagi_utalvanyok\n",
    "regUpdate(\"GOA24.VK_2588_REG_V24H9_V_V00\", \"gazdasagi_szepkartyak\", \",\")#gazdasagi_szepkartyak\n",
    "regUpdate(\"GOA24.VK_2588_REG_V24H9_V_V00\", \"furdoegysegek\", \",\")#furdoegysegek\n",
    "regUpdate(\"GOA24.VK_2588_REG_V24H9_V_V00\", \"beautyszolgaltatasok\", \",\")#beautyszolgaltatasok\n",
    "regUpdate(\"GOA24.VK_2588_REG_V24H9_V_V00\", \"csaladbaratszolgaltatasok\", \",\")#csaladbaratszolgaltatasok\n",
    "regUpdate(\"GOA24.VK_2588_REG_V24H9_V_V00\", \"egeszsegmegorzoszolgaltatasok\", \",\")#egeszsegmegorzoszolgaltatasok"
   ]
  },
  {
   "cell_type": "code",
   "execution_count": 20,
   "id": "d91c656a-1650-421a-845b-8fa116a02958",
   "metadata": {
    "tags": []
   },
   "outputs": [
    {
     "name": "stdout",
     "output_type": "stream",
     "text": [
      "A közfürdők sor- és oszlopszámai : (44004, 45)\n",
      "A természetes fürdőhelyek sor- és oszlopszámai : (8190, 45)\n"
     ]
    }
   ],
   "source": [
    "#Tranzakciós adatok fürdőhelyek\n",
    "kozFurdok = pd.read_excel(io = os.path.abspath(os.getcwd() + \"\\Excel_Files\\Regisztrációs_adatok_KSH_attrakcio_kozfurdo_természetesfurdohely_202406_08ho.xlsx\"), sheet_name = \"közfürdő\", header = 0)\n",
    "print(f\"A közfürdők sor- és oszlopszámai : {kozFurdok.shape}\")\n",
    "\n",
    "termeszetesFurdok = pd.read_excel(io = os.path.abspath(os.getcwd() + \"\\Excel_Files\\Regisztrációs_adatok_KSH_attrakcio_kozfurdo_természetesfurdohely_202406_08ho.xlsx\"), sheet_name = \"természetes fürdőhely\", header = 0)\n",
    "print(f\"A természetes fürdőhelyek sor- és oszlopszámai : {termeszetesFurdok.shape}\")\n",
    "\n",
    "tranzFurdok = pd.concat([kozFurdok, termeszetesFurdok], ignore_index = True)\n",
    "tranzFurdok = tranzFurdok.replace({pd.NaT: None}).replace({\"NaT\": None}).replace({np.NaN: None})\n",
    "\n",
    "tranzFurdok = tranzFurdok[tranzFurdok.honap == 8]#június, július vagy augusztus"
   ]
  },
  {
   "cell_type": "code",
   "execution_count": 21,
   "id": "76ac3196-0b84-4dbb-8dc2-d40e9b507e44",
   "metadata": {
    "tags": []
   },
   "outputs": [],
   "source": [
    "#W_ kezdetű tranzakciós tábla feltöltése\n",
    "values = makeInsert(44)\n",
    "\n",
    "outputName = \"GOA24.W_VK_2588_TRANZ_V24H9_V_V00\"\n",
    "attributesForInsert = \"\"\"evszam, honap, szolg_hely_regisztracios_szam, afa_kategoria, azonnal_felhasznalt, \n",
    "egyeb_etel, egyeb_ital, egyeb_kedvezmeny, egyeb_szolgaltatas, egyeb_termek, ertekesitesi_csatorna, ertekesitve, \n",
    "fizetes_atutalas, fizetes_bankkartya, fizetes_egyeb, fizetes_kerekites, fizetes_keszpenzeur, fizetes_keszpenzhuf, \n",
    "fizetes_szepkartya, fizetes_szobahitel, fizetes_voucher, helyszin, jegyek_szama, jegy_megnevezes, \n",
    "jegy_ervenyesseg_tipusa, kedvezmenyek, korcsoport, ntak_rendszer_kategoria, szemelyek_szama, kulfoldi, \n",
    "latogatok_lakohelye, program_alkategoria, program_fokategoria, program_gyakorisaga, program_neve, \n",
    "program_tipusa, programsorozat_neve, online_program, szolgaltatasihely_nev, szolgaltatasihely_varos, \n",
    "szolgaltatasihely_megye, szolgaltatasihely_kiemelt_terseg, szolgaltato_nev, tranzakciok_szama\"\"\"\n",
    "\n",
    "\n",
    "output_insert_sql = \"INSERT INTO \" + outputName + \"(\" + attributesForInsert + \") VALUES(\" + values + \")\"\n",
    "cur.executemany(output_insert_sql, \n",
    "                tranzFurdok[[\"evszam\", \"honap\", \"szolg_hely_regisztracios_szam\", \"afa_kategoria\", \n",
    "                            \"azonnal_felhasznalt\", \"egyeb_etel\", \"egyeb_ital\", \"egyeb_kedvezmeny\", \n",
    "                            \"egyeb_szolgaltatas\", \"egyeb_termek\", \"ertekesitesi_csatorna\", \"ertekesitve\",\n",
    "                             \"fizetes_atutalas\", \"fizetes_bankkartya\", \"fizetes_egyeb\", \"fizetes_kerekites\", \n",
    "                            \"fizetes_keszpenzeur\", \"fizetes_keszpenzhuf\", \"fizetes_szepkartya\", \"fizetes_szobahitel\", \n",
    "                            \"fizetes_voucher\", \"helyszin\", \"jegyek_szama\", \"jegy_megnevezes\", \n",
    "                            \"jegy_ervenyesseg_tipusa\", \"kedvezmenyek\", \"korcsoport\", \"ntak_rendszer_kategoria\", \n",
    "                            \"szemelyek_szama\", \"kulfoldi\", \"latogatok_lakohelye\", \"program_alkategoria\", \n",
    "                            \"program_fokategoria\", \"program_gyakorisaga\", \"program_neve\", \"program_tipusa\", \n",
    "                            \"programsorozat_neve\", \"online_program\", \"szolgaltatasihely_nev\", \n",
    "                            \"szolgaltatasihely_varos\", \"szolgaltatasihely_megye\", \"szolgaltatasihely_kiemelt_terseg\", \n",
    "                            \"szolgaltato_nev\", \"tranzakciok_szama\"\n",
    "                            ]].values.tolist())\n",
    "cur.execute(\"commit\")\n"
   ]
  },
  {
   "cell_type": "code",
   "execution_count": 22,
   "id": "8481ba80-f2a6-4da1-98c0-d308bd1980f7",
   "metadata": {
    "tags": []
   },
   "outputs": [
    {
     "name": "stdout",
     "output_type": "stream",
     "text": [
      "A tranzakciós adatok oszloptörlés utáni sor- és oszlopszámai : (16482, 39)\n"
     ]
    }
   ],
   "source": [
    "#Nem W_ kezdetű tranzakciós tábla feltöltése\n",
    "tranzFurdok.insert(loc = 0, column = \"EXP_DATE\", value = EXP_DATE)\n",
    "tranzFurdok[\"EXP_DATE\"] = tranzFurdok[\"EXP_DATE\"].astype(\"datetime64[ns]\")\n",
    "\n",
    "tranzFurdok.drop([\"szolg_hely_program_azonosito\", \"helyszin\", \"szolgaltatasihely_nev\", \"szolgaltatasihely_varos\", \"szolgaltatasihely_megye\", \"szolgaltatasihely_kiemelt_terseg\", \"szolgaltato_nev\"], axis = 1, inplace = True)#7 oszlop törlése\n",
    "print(f\"A tranzakciós adatok oszloptörlés utáni sor- és oszlopszámai : {tranzFurdok.shape}\")\n",
    "\n",
    "tranzFurdok.insert(loc = 0, column = \"REGKGYFURDO_ID\", value = 0)"
   ]
  },
  {
   "cell_type": "code",
   "execution_count": 23,
   "id": "5db030fd-e027-4a6d-aa42-9e72568c30ad",
   "metadata": {
    "tags": []
   },
   "outputs": [],
   "source": [
    "tranzFurdok.rename(columns = {'evszam': 'TEV', 'honap': 'MHO'}, inplace = True)\n",
    "tranzFurdok['MHO'] = tranzFurdok['MHO'].astype(str)\n",
    "tranzFurdok.MHO = tranzFurdok.MHO.str.rjust(2, '0')"
   ]
  },
  {
   "cell_type": "code",
   "execution_count": 24,
   "id": "e2ee5c7a-c103-4768-9cff-3b6b1494bf8c",
   "metadata": {
    "tags": []
   },
   "outputs": [],
   "source": [
    "for i in range(regFurdok.shape[0]):\n",
    "    #print(i)\n",
    "    regszam = regFurdok.loc[i][\"szolgaltatasi_hely_regisztracios_szam\"]\n",
    "    ertek = regFurdok.loc[i][\"ID_SQ\"]\n",
    "    #print(regszam)\n",
    "    #print(ertek)\n",
    "    #result[\"REGKGYFURDO_ID\"] = np.where(result['szolg_hely_regisztracios_szam'] == regszam, ertek, 0)\n",
    "    #result[\"REGKGYFURDO_ID\"] = result[\"szolg_hely_regisztracios_szam\"].where(result[\"szolg_hely_regisztracios_szam\"] == regszam, ertek)\n",
    "    tranzFurdok.loc[tranzFurdok[\"szolg_hely_regisztracios_szam\"] == regszam, \"REGKGYFURDO_ID\"] = ertek"
   ]
  },
  {
   "cell_type": "code",
   "execution_count": 25,
   "id": "a8c138ac-a757-460b-81a5-77cee1abece3",
   "metadata": {
    "tags": []
   },
   "outputs": [],
   "source": [
    "values = makeInsert(40)\n",
    "\n",
    "outputName = \"GOA24.VK_2588_TRANZ_V24H9_V_V00\"\n",
    "attributesForInsert = \"\"\"REGKGYFURDO_ID, TEV, MHO, szolg_hely_regisztracios_szam, afa_kategoria, \n",
    "azonnal_felhasznalt, egyeb_etel, egyeb_ital, egyeb_kedvezmeny, egyeb_szolgaltatas, egyeb_termek, \n",
    "ertekesitesi_csatorna, ertekesitve, fizetes_atutalas, fizetes_bankkartya, fizetes_egyeb, fizetes_kerekites, \n",
    "fizetes_keszpenzeur, fizetes_keszpenzhuf, fizetes_szepkartya, fizetes_szobahitel, fizetes_voucher, \n",
    "jegyek_szama, jegy_megnevezes, jegy_ervenyesseg_tipusa, kedvezmenyek, korcsoport, ntak_rendszer_kategoria, szemelyek_szama, \n",
    "kulfoldi, latogatok_lakohelye, program_alkategoria, program_fokategoria, program_gyakorisaga, \n",
    "program_neve, program_tipusa, programsorozat_neve, online_program, tranzakciok_szama, EXP_DATE\"\"\"\n",
    "\n",
    "output_insert_sql = \"INSERT INTO \" + outputName + \"(\" + attributesForInsert + \") VALUES(\" + values + \")\"\n",
    "cur.executemany(output_insert_sql, \n",
    "                tranzFurdok[[\"REGKGYFURDO_ID\", \"TEV\", \"MHO\", \"szolg_hely_regisztracios_szam\", \"afa_kategoria\", \"azonnal_felhasznalt\", \n",
    "                        \"egyeb_etel\", \"egyeb_ital\", \"egyeb_kedvezmeny\", \"egyeb_szolgaltatas\", \"egyeb_termek\", \n",
    "                        \"ertekesitesi_csatorna\", \"ertekesitve\", \"fizetes_atutalas\", \"fizetes_bankkartya\", \n",
    "                        \"fizetes_egyeb\", \"fizetes_kerekites\", \"fizetes_keszpenzeur\", \"fizetes_keszpenzhuf\", \n",
    "                        \"fizetes_szepkartya\", \"fizetes_szobahitel\", \"fizetes_voucher\", \"jegyek_szama\", \n",
    "                        \"jegy_megnevezes\", \"jegy_ervenyesseg_tipusa\", \"kedvezmenyek\", \"korcsoport\", \"ntak_rendszer_kategoria\", \n",
    "                        \"szemelyek_szama\", \"kulfoldi\", \"latogatok_lakohelye\", \"program_alkategoria\", \n",
    "                        \"program_fokategoria\", \"program_gyakorisaga\", \"program_neve\", \"program_tipusa\", \n",
    "                        \"programsorozat_neve\", \"online_program\", \"tranzakciok_szama\", \"EXP_DATE\"]].values.tolist())\n",
    "\n",
    "cur.execute(\"commit\")"
   ]
  },
  {
   "cell_type": "code",
   "execution_count": 26,
   "id": "9c16c876-9991-47f6-bd48-93912817f37b",
   "metadata": {
    "tags": []
   },
   "outputs": [],
   "source": [
    "cur.close()"
   ]
  },
  {
   "cell_type": "code",
   "execution_count": null,
   "id": "7ebb6ea9-2563-43aa-9a22-4043b941b759",
   "metadata": {},
   "outputs": [],
   "source": []
  }
 ],
 "metadata": {
  "kernelspec": {
   "display_name": "Python 3 (ipykernel)",
   "language": "python",
   "name": "python3"
  },
  "language_info": {
   "codemirror_mode": {
    "name": "ipython",
    "version": 3
   },
   "file_extension": ".py",
   "mimetype": "text/x-python",
   "name": "python",
   "nbconvert_exporter": "python",
   "pygments_lexer": "ipython3",
   "version": "3.11.5"
  }
 },
 "nbformat": 4,
 "nbformat_minor": 5
}
